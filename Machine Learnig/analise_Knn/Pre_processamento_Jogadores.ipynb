{
 "cells": [
  {
   "cell_type": "markdown",
   "metadata": {},
   "source": [
    "importar as bibliotecas necessarias para a munipulação dos dados dos jogadores e importar a base de dados, Faremos a limpeza do dataframe, descartando as colunas que nao contribuirão para a nossa análise, assim como manipulação dos dados para que fiquem corretos."
   ]
  },
  {
   "cell_type": "code",
   "execution_count": 1,
   "metadata": {},
   "outputs": [],
   "source": [
    "import pandas as pd\n",
    "import numpy as np\n",
    "import re"
   ]
  },
  {
   "cell_type": "code",
   "execution_count": 2,
   "metadata": {},
   "outputs": [
    {
     "name": "stdout",
     "output_type": "stream",
     "text": [
      "<class 'pandas.core.frame.DataFrame'>\n",
      "RangeIndex: 361 entries, 0 to 360\n",
      "Data columns (total 22 columns):\n",
      " #   Column                 Non-Null Count  Dtype  \n",
      "---  ------                 --------------  -----  \n",
      " 0   Apelido                361 non-null    object \n",
      " 1   Idade                  361 non-null    int64  \n",
      " 2   Altura                 361 non-null    object \n",
      " 3   Peso                   361 non-null    object \n",
      " 4   Jogos                  361 non-null    int64  \n",
      " 5   Clube                  361 non-null    object \n",
      " 6   Nome                   361 non-null    object \n",
      " 7   Posicao                361 non-null    object \n",
      " 8   Desarme                200 non-null    float64\n",
      " 9   Falta cometida         190 non-null    float64\n",
      " 10  Finalizacao fora       112 non-null    float64\n",
      " 11  Falta sofrida          182 non-null    float64\n",
      " 12  Gol                    27 non-null     float64\n",
      " 13  Passe Incompleto       254 non-null    float64\n",
      " 14  Cartao amarelo         67 non-null     float64\n",
      " 15  Assistencia            27 non-null     float64\n",
      " 16  Finalizacao defendida  84 non-null     float64\n",
      " 17  Finalizacao trave      14 non-null     float64\n",
      " 18  Impedimento            36 non-null     float64\n",
      " 19  Cartao vermelho        2 non-null      float64\n",
      " 20  Gol contra             1 non-null      float64\n",
      " 21  Penalti perdido        2 non-null      float64\n",
      "dtypes: float64(14), int64(2), object(6)\n",
      "memory usage: 62.2+ KB\n"
     ]
    }
   ],
   "source": [
    "df_jogadores = pd.read_csv(\"jogadores_rodada_3.csv\")\n",
    "#df_jogadores.head()\n",
    "df_jogadores.info()"
   ]
  },
  {
   "cell_type": "markdown",
   "metadata": {},
   "source": [
    "Serão eliminados as colunas Apelido,Jogos,Nome,Penalti perdido,Gol contra,Clube e Idade.\n",
    "\n",
    "Também serão eliminados todas as linhas em que todas as colunas das açoes forem NaN, Assim não teremos jogadores que não participaram da partida.\n",
    "\n",
    "essas não contribuirão para nossa análise."
   ]
  },
  {
   "cell_type": "code",
   "execution_count": 3,
   "metadata": {},
   "outputs": [],
   "source": [
    "        \n",
    "df_jogadores.drop(df_jogadores[((df_jogadores[\"Desarme\"].isnull()) & \n",
    "                                (df_jogadores[\"Falta cometida\"].isnull()) &\n",
    "                                (df_jogadores[\"Finalizacao fora\"].isnull()) &\n",
    "                                (df_jogadores[\"Falta sofrida\"].isnull()) &\n",
    "                                (df_jogadores[\"Gol\"].isnull()) &\n",
    "                                (df_jogadores[\"Passe Incompleto\"].isnull()) &\n",
    "                                (df_jogadores[\"Cartao amarelo\"].isnull()) &\n",
    "                                (df_jogadores[\"Assistencia\"].isnull()) &\n",
    "                                (df_jogadores[\"Finalizacao defendida\"].isnull()) &\n",
    "                                (df_jogadores[\"Finalizacao trave\"].isnull()) &\n",
    "                                (df_jogadores[\"Impedimento\"].isnull()) &\n",
    "                                (df_jogadores[\"Cartao vermelho\"].isnull())\n",
    "                                )].index,axis=0,inplace=True)          \n",
    "\n",
    "df_jogadores.reset_index(inplace=True)\n",
    "\n",
    "df_jogadores.drop([\"Apelido\",\"Jogos\",\"Nome\",\"Penalti perdido\",\"Gol contra\",\"index\",\"Clube\",\"Idade\"],axis=1,inplace=True)\n"
   ]
  },
  {
   "cell_type": "code",
   "execution_count": 4,
   "metadata": {},
   "outputs": [
    {
     "name": "stdout",
     "output_type": "stream",
     "text": [
      "<class 'pandas.core.frame.DataFrame'>\n",
      "RangeIndex: 270 entries, 0 to 269\n",
      "Data columns (total 15 columns):\n",
      " #   Column                 Non-Null Count  Dtype  \n",
      "---  ------                 --------------  -----  \n",
      " 0   Altura                 270 non-null    object \n",
      " 1   Peso                   270 non-null    object \n",
      " 2   Posicao                270 non-null    object \n",
      " 3   Desarme                200 non-null    float64\n",
      " 4   Falta cometida         190 non-null    float64\n",
      " 5   Finalizacao fora       112 non-null    float64\n",
      " 6   Falta sofrida          182 non-null    float64\n",
      " 7   Gol                    27 non-null     float64\n",
      " 8   Passe Incompleto       254 non-null    float64\n",
      " 9   Cartao amarelo         67 non-null     float64\n",
      " 10  Assistencia            27 non-null     float64\n",
      " 11  Finalizacao defendida  84 non-null     float64\n",
      " 12  Finalizacao trave      14 non-null     float64\n",
      " 13  Impedimento            36 non-null     float64\n",
      " 14  Cartao vermelho        2 non-null      float64\n",
      "dtypes: float64(12), object(3)\n",
      "memory usage: 31.8+ KB\n"
     ]
    }
   ],
   "source": [
    "df_jogadores.info()"
   ]
  },
  {
   "cell_type": "markdown",
   "metadata": {},
   "source": [
    "Convertendo a coluna altura e peso que são do tipo string, para valores continuos do tipo Numerico.\n",
    "Os valores faltantes nas duas colunas serão preenchidos como NaN.\n",
    "\n",
    "Foi aplicado uma função lambda na coluna Altura e peso,atraves de uma expressao regular foi retirado quaisquer letras possiveis na string,caso a string fosse menor ou igual ao comprimeiro de 2 caracteres, foi substituido por um dado NaN. \n",
    "\n",
    "pd.to_numeric() -- Recebe uma series do panda, no caso a coluna que sera convertida para tipo numerico,caso nao consiga converter atribui NaN se errors='coerce' estiver na função\n"
   ]
  },
  {
   "cell_type": "code",
   "execution_count": 5,
   "metadata": {},
   "outputs": [],
   "source": [
    "df_jogadores[\"Peso\"] = df_jogadores[\"Peso\"].apply(lambda x: (re.sub(\"[a-z]\",'',x)) if(len(x)>2) else np.nan)\n",
    "df_jogadores[\"Peso\"] = pd.to_numeric(df_jogadores[\"Peso\"])"
   ]
  },
  {
   "cell_type": "code",
   "execution_count": 6,
   "metadata": {},
   "outputs": [],
   "source": [
    "#Outra maneira de fazer sem precisar atribuir NaN pela função lambda.\n",
    "df_jogadores[\"Altura\"] = df_jogadores[\"Altura\"].apply(lambda x: re.sub(\"[a-z]\",'',x))\n",
    "df_jogadores[\"Altura\"] = pd.to_numeric(df_jogadores[\"Altura\"],errors='coerce')\n"
   ]
  },
  {
   "cell_type": "markdown",
   "metadata": {},
   "source": [
    "Pode-se verificar no codigo a baixo que as colunas Altura e Peso, Passaram a ser do tipo numerico.\n",
    "Verifica-se também que foi atribuido NaN para valores faltantes."
   ]
  },
  {
   "cell_type": "code",
   "execution_count": 7,
   "metadata": {},
   "outputs": [
    {
     "data": {
      "text/html": [
       "<div>\n",
       "<style scoped>\n",
       "    .dataframe tbody tr th:only-of-type {\n",
       "        vertical-align: middle;\n",
       "    }\n",
       "\n",
       "    .dataframe tbody tr th {\n",
       "        vertical-align: top;\n",
       "    }\n",
       "\n",
       "    .dataframe thead th {\n",
       "        text-align: right;\n",
       "    }\n",
       "</style>\n",
       "<table border=\"1\" class=\"dataframe\">\n",
       "  <thead>\n",
       "    <tr style=\"text-align: right;\">\n",
       "      <th></th>\n",
       "      <th>Altura</th>\n",
       "      <th>Peso</th>\n",
       "      <th>Posicao</th>\n",
       "      <th>Desarme</th>\n",
       "      <th>Falta cometida</th>\n",
       "      <th>Finalizacao fora</th>\n",
       "      <th>Falta sofrida</th>\n",
       "      <th>Gol</th>\n",
       "      <th>Passe Incompleto</th>\n",
       "      <th>Cartao amarelo</th>\n",
       "      <th>Assistencia</th>\n",
       "      <th>Finalizacao defendida</th>\n",
       "      <th>Finalizacao trave</th>\n",
       "      <th>Impedimento</th>\n",
       "      <th>Cartao vermelho</th>\n",
       "    </tr>\n",
       "  </thead>\n",
       "  <tbody>\n",
       "    <tr>\n",
       "      <th>101</th>\n",
       "      <td>1.83</td>\n",
       "      <td>NaN</td>\n",
       "      <td>zag</td>\n",
       "      <td>4.0</td>\n",
       "      <td>3.0</td>\n",
       "      <td>NaN</td>\n",
       "      <td>1.0</td>\n",
       "      <td>NaN</td>\n",
       "      <td>20.0</td>\n",
       "      <td>NaN</td>\n",
       "      <td>NaN</td>\n",
       "      <td>NaN</td>\n",
       "      <td>1.0</td>\n",
       "      <td>NaN</td>\n",
       "      <td>NaN</td>\n",
       "    </tr>\n",
       "    <tr>\n",
       "      <th>103</th>\n",
       "      <td>1.78</td>\n",
       "      <td>NaN</td>\n",
       "      <td>mei</td>\n",
       "      <td>1.0</td>\n",
       "      <td>NaN</td>\n",
       "      <td>NaN</td>\n",
       "      <td>NaN</td>\n",
       "      <td>NaN</td>\n",
       "      <td>4.0</td>\n",
       "      <td>NaN</td>\n",
       "      <td>NaN</td>\n",
       "      <td>NaN</td>\n",
       "      <td>NaN</td>\n",
       "      <td>NaN</td>\n",
       "      <td>NaN</td>\n",
       "    </tr>\n",
       "    <tr>\n",
       "      <th>109</th>\n",
       "      <td>1.78</td>\n",
       "      <td>NaN</td>\n",
       "      <td>ata</td>\n",
       "      <td>NaN</td>\n",
       "      <td>5.0</td>\n",
       "      <td>1.0</td>\n",
       "      <td>8.0</td>\n",
       "      <td>NaN</td>\n",
       "      <td>13.0</td>\n",
       "      <td>NaN</td>\n",
       "      <td>NaN</td>\n",
       "      <td>NaN</td>\n",
       "      <td>NaN</td>\n",
       "      <td>3.0</td>\n",
       "      <td>NaN</td>\n",
       "    </tr>\n",
       "    <tr>\n",
       "      <th>169</th>\n",
       "      <td>NaN</td>\n",
       "      <td>NaN</td>\n",
       "      <td>mei</td>\n",
       "      <td>NaN</td>\n",
       "      <td>1.0</td>\n",
       "      <td>NaN</td>\n",
       "      <td>1.0</td>\n",
       "      <td>NaN</td>\n",
       "      <td>NaN</td>\n",
       "      <td>NaN</td>\n",
       "      <td>NaN</td>\n",
       "      <td>NaN</td>\n",
       "      <td>NaN</td>\n",
       "      <td>NaN</td>\n",
       "      <td>NaN</td>\n",
       "    </tr>\n",
       "    <tr>\n",
       "      <th>170</th>\n",
       "      <td>1.73</td>\n",
       "      <td>NaN</td>\n",
       "      <td>ata</td>\n",
       "      <td>4.0</td>\n",
       "      <td>3.0</td>\n",
       "      <td>3.0</td>\n",
       "      <td>13.0</td>\n",
       "      <td>NaN</td>\n",
       "      <td>16.0</td>\n",
       "      <td>1.0</td>\n",
       "      <td>NaN</td>\n",
       "      <td>NaN</td>\n",
       "      <td>NaN</td>\n",
       "      <td>NaN</td>\n",
       "      <td>NaN</td>\n",
       "    </tr>\n",
       "    <tr>\n",
       "      <th>180</th>\n",
       "      <td>NaN</td>\n",
       "      <td>NaN</td>\n",
       "      <td>zag</td>\n",
       "      <td>2.0</td>\n",
       "      <td>NaN</td>\n",
       "      <td>NaN</td>\n",
       "      <td>NaN</td>\n",
       "      <td>NaN</td>\n",
       "      <td>5.0</td>\n",
       "      <td>NaN</td>\n",
       "      <td>NaN</td>\n",
       "      <td>NaN</td>\n",
       "      <td>NaN</td>\n",
       "      <td>NaN</td>\n",
       "      <td>NaN</td>\n",
       "    </tr>\n",
       "    <tr>\n",
       "      <th>195</th>\n",
       "      <td>NaN</td>\n",
       "      <td>NaN</td>\n",
       "      <td>lat</td>\n",
       "      <td>NaN</td>\n",
       "      <td>NaN</td>\n",
       "      <td>NaN</td>\n",
       "      <td>NaN</td>\n",
       "      <td>NaN</td>\n",
       "      <td>1.0</td>\n",
       "      <td>NaN</td>\n",
       "      <td>NaN</td>\n",
       "      <td>NaN</td>\n",
       "      <td>NaN</td>\n",
       "      <td>NaN</td>\n",
       "      <td>NaN</td>\n",
       "    </tr>\n",
       "    <tr>\n",
       "      <th>196</th>\n",
       "      <td>1.85</td>\n",
       "      <td>NaN</td>\n",
       "      <td>lat</td>\n",
       "      <td>1.0</td>\n",
       "      <td>5.0</td>\n",
       "      <td>NaN</td>\n",
       "      <td>1.0</td>\n",
       "      <td>NaN</td>\n",
       "      <td>9.0</td>\n",
       "      <td>NaN</td>\n",
       "      <td>NaN</td>\n",
       "      <td>1.0</td>\n",
       "      <td>NaN</td>\n",
       "      <td>NaN</td>\n",
       "      <td>NaN</td>\n",
       "    </tr>\n",
       "    <tr>\n",
       "      <th>202</th>\n",
       "      <td>NaN</td>\n",
       "      <td>NaN</td>\n",
       "      <td>ata</td>\n",
       "      <td>1.0</td>\n",
       "      <td>1.0</td>\n",
       "      <td>1.0</td>\n",
       "      <td>NaN</td>\n",
       "      <td>NaN</td>\n",
       "      <td>2.0</td>\n",
       "      <td>NaN</td>\n",
       "      <td>NaN</td>\n",
       "      <td>NaN</td>\n",
       "      <td>NaN</td>\n",
       "      <td>NaN</td>\n",
       "      <td>NaN</td>\n",
       "    </tr>\n",
       "  </tbody>\n",
       "</table>\n",
       "</div>"
      ],
      "text/plain": [
       "     Altura  Peso Posicao  Desarme  Falta cometida  Finalizacao fora  \\\n",
       "101    1.83   NaN     zag      4.0             3.0               NaN   \n",
       "103    1.78   NaN     mei      1.0             NaN               NaN   \n",
       "109    1.78   NaN     ata      NaN             5.0               1.0   \n",
       "169     NaN   NaN     mei      NaN             1.0               NaN   \n",
       "170    1.73   NaN     ata      4.0             3.0               3.0   \n",
       "180     NaN   NaN     zag      2.0             NaN               NaN   \n",
       "195     NaN   NaN     lat      NaN             NaN               NaN   \n",
       "196    1.85   NaN     lat      1.0             5.0               NaN   \n",
       "202     NaN   NaN     ata      1.0             1.0               1.0   \n",
       "\n",
       "     Falta sofrida  Gol  Passe Incompleto  Cartao amarelo  Assistencia  \\\n",
       "101            1.0  NaN              20.0             NaN          NaN   \n",
       "103            NaN  NaN               4.0             NaN          NaN   \n",
       "109            8.0  NaN              13.0             NaN          NaN   \n",
       "169            1.0  NaN               NaN             NaN          NaN   \n",
       "170           13.0  NaN              16.0             1.0          NaN   \n",
       "180            NaN  NaN               5.0             NaN          NaN   \n",
       "195            NaN  NaN               1.0             NaN          NaN   \n",
       "196            1.0  NaN               9.0             NaN          NaN   \n",
       "202            NaN  NaN               2.0             NaN          NaN   \n",
       "\n",
       "     Finalizacao defendida  Finalizacao trave  Impedimento  Cartao vermelho  \n",
       "101                    NaN                1.0          NaN              NaN  \n",
       "103                    NaN                NaN          NaN              NaN  \n",
       "109                    NaN                NaN          3.0              NaN  \n",
       "169                    NaN                NaN          NaN              NaN  \n",
       "170                    NaN                NaN          NaN              NaN  \n",
       "180                    NaN                NaN          NaN              NaN  \n",
       "195                    NaN                NaN          NaN              NaN  \n",
       "196                    1.0                NaN          NaN              NaN  \n",
       "202                    NaN                NaN          NaN              NaN  "
      ]
     },
     "execution_count": 7,
     "metadata": {},
     "output_type": "execute_result"
    }
   ],
   "source": [
    "df_jogadores[df_jogadores[\"Peso\"].isnull()]\n",
    "#df_jogadores.info()"
   ]
  },
  {
   "cell_type": "markdown",
   "metadata": {},
   "source": [
    "verificando inconsistencias nos dados de Altura e Peso.\n",
    "\n",
    "Para a coluna Peso Nenhuma anomalia nos dados foi detectada.\n",
    "\n",
    "Para a altura uma anomalia foi detectada, o valor sera preenchido com a media da altura feita com jogadores da mesma posicao e onde o peso tenha uma diferença de ate no maximo 2 kg com o peso da anomalia."
   ]
  },
  {
   "cell_type": "code",
   "execution_count": 8,
   "metadata": {},
   "outputs": [
    {
     "data": {
      "text/plain": [
       "1"
      ]
     },
     "execution_count": 8,
     "metadata": {},
     "output_type": "execute_result"
    }
   ],
   "source": [
    "#(df_jogadores[\"Peso\"] > 100).sum()\n",
    "(df_jogadores[\"Altura\"] <= 1).sum()"
   ]
  },
  {
   "cell_type": "code",
   "execution_count": 9,
   "metadata": {},
   "outputs": [],
   "source": [
    "index_anomalia = (df_jogadores[(df_jogadores[\"Altura\"] <= 1)].index) \n",
    "\n",
    "media_anomalia = round(df_jogadores[(df_jogadores[\"Posicao\"] == \"lat\") & (df_jogadores[\"Peso\"] >=70) & (df_jogadores[\"Peso\"] <=74)][\"Altura\"].mean(), 2)\n",
    "\n",
    "df_jogadores.loc[index_anomalia,'Altura'] = media_anomalia\n"
   ]
  },
  {
   "cell_type": "markdown",
   "metadata": {},
   "source": [
    " Para os valores NaN na coluna Peso e altura, sera preenchido com as médias feita entre os jogadores da mesma posiçao"
   ]
  },
  {
   "cell_type": "code",
   "execution_count": 10,
   "metadata": {},
   "outputs": [],
   "source": [
    "a=round(df_jogadores[(df_jogadores[\"Posicao\"] == \"zag\")]['Peso'].mean())\n",
    "b=round(df_jogadores[(df_jogadores[\"Posicao\"] == \"zag\")]['Altura'].mean(),2)\n",
    "\n",
    "c=round(df_jogadores[(df_jogadores[\"Posicao\"] == \"lat\")]['Peso'].mean())\n",
    "d=round(df_jogadores[(df_jogadores[\"Posicao\"] == \"lat\")]['Altura'].mean(),2)\n",
    "\n",
    "e=round(df_jogadores[(df_jogadores[\"Posicao\"] == \"mei\")]['Peso'].mean())\n",
    "f=round(df_jogadores[(df_jogadores[\"Posicao\"] == \"mei\")]['Altura'].mean(),2)\n",
    "\n",
    "g=round(df_jogadores[(df_jogadores[\"Posicao\"] == \"ata\")]['Peso'].mean())\n",
    "h=round(df_jogadores[(df_jogadores[\"Posicao\"] == \"ata\")]['Altura'].mean(),2)"
   ]
  },
  {
   "cell_type": "code",
   "execution_count": 11,
   "metadata": {},
   "outputs": [],
   "source": [
    "df_jogadores.loc[(df_jogadores[((df_jogadores['Posicao'] == 'zag') & \n",
    "                                (df_jogadores[\"Peso\"].isnull()))].index),'Peso'] = a\n",
    "\n",
    "df_jogadores.loc[(df_jogadores[((df_jogadores['Posicao'] == 'zag') & \n",
    "                                (df_jogadores[\"Altura\"].isnull()))].index),'Altura'] = b\n",
    "\n",
    "\n",
    "\n",
    "\n",
    "df_jogadores.loc[(df_jogadores[((df_jogadores['Posicao'] == 'lat') & \n",
    "                                (df_jogadores[\"Peso\"].isnull()))].index),'Peso'] = c\n",
    "\n",
    "df_jogadores.loc[(df_jogadores[((df_jogadores['Posicao'] == 'lat') & \n",
    "                                (df_jogadores[\"Altura\"].isnull()))].index),'Altura'] = d\n",
    "\n",
    "\n",
    "\n",
    "\n",
    "df_jogadores.loc[(df_jogadores[((df_jogadores['Posicao'] == 'mei') & \n",
    "                                (df_jogadores[\"Peso\"].isnull()))].index),'Peso'] = e\n",
    "\n",
    "df_jogadores.loc[(df_jogadores[((df_jogadores['Posicao'] == 'mei') & \n",
    "                                (df_jogadores[\"Altura\"].isnull()))].index),'Altura'] = f\n",
    "\n",
    "\n",
    "\n",
    "df_jogadores.loc[(df_jogadores[((df_jogadores['Posicao'] == 'ata') & \n",
    "                                (df_jogadores[\"Peso\"].isnull()))].index),'Peso'] = g\n",
    "\n",
    "df_jogadores.loc[(df_jogadores[((df_jogadores['Posicao'] == 'ata') & \n",
    "                                (df_jogadores[\"Altura\"].isnull()))].index),'Altura'] = h"
   ]
  },
  {
   "cell_type": "markdown",
   "metadata": {},
   "source": [
    "Podemos verificar que nao encontramos mais valores NaN nas colunas Peso e Altura"
   ]
  },
  {
   "cell_type": "code",
   "execution_count": 12,
   "metadata": {},
   "outputs": [
    {
     "data": {
      "text/html": [
       "<div>\n",
       "<style scoped>\n",
       "    .dataframe tbody tr th:only-of-type {\n",
       "        vertical-align: middle;\n",
       "    }\n",
       "\n",
       "    .dataframe tbody tr th {\n",
       "        vertical-align: top;\n",
       "    }\n",
       "\n",
       "    .dataframe thead th {\n",
       "        text-align: right;\n",
       "    }\n",
       "</style>\n",
       "<table border=\"1\" class=\"dataframe\">\n",
       "  <thead>\n",
       "    <tr style=\"text-align: right;\">\n",
       "      <th></th>\n",
       "      <th>Altura</th>\n",
       "      <th>Peso</th>\n",
       "      <th>Posicao</th>\n",
       "      <th>Desarme</th>\n",
       "      <th>Falta cometida</th>\n",
       "      <th>Finalizacao fora</th>\n",
       "      <th>Falta sofrida</th>\n",
       "      <th>Gol</th>\n",
       "      <th>Passe Incompleto</th>\n",
       "      <th>Cartao amarelo</th>\n",
       "      <th>Assistencia</th>\n",
       "      <th>Finalizacao defendida</th>\n",
       "      <th>Finalizacao trave</th>\n",
       "      <th>Impedimento</th>\n",
       "      <th>Cartao vermelho</th>\n",
       "    </tr>\n",
       "  </thead>\n",
       "  <tbody>\n",
       "  </tbody>\n",
       "</table>\n",
       "</div>"
      ],
      "text/plain": [
       "Empty DataFrame\n",
       "Columns: [Altura, Peso, Posicao, Desarme, Falta cometida, Finalizacao fora, Falta sofrida, Gol, Passe Incompleto, Cartao amarelo, Assistencia, Finalizacao defendida, Finalizacao trave, Impedimento, Cartao vermelho]\n",
       "Index: []"
      ]
     },
     "execution_count": 12,
     "metadata": {},
     "output_type": "execute_result"
    }
   ],
   "source": [
    "df_jogadores[df_jogadores[\"Peso\"].isnull() | df_jogadores[\"Altura\"].isnull()]"
   ]
  },
  {
   "cell_type": "markdown",
   "metadata": {},
   "source": [
    "Agora fazemos a conversão dos labels para números\n",
    "Tratamamos todos os valores NaN nas acoes dos jogadores\n",
    "\n",
    "ordenando o data frame pelo rotulo alvo"
   ]
  },
  {
   "cell_type": "code",
   "execution_count": 13,
   "metadata": {
    "scrolled": true
   },
   "outputs": [],
   "source": [
    "d = {\"gol\":0,\"zag\":1,\"lat\":2,\"mei\":3,\"ata\":4}\n",
    "df_jogadores[\"Posicao\"] = df_jogadores[\"Posicao\"].map(d)\n",
    "    "
   ]
  },
  {
   "cell_type": "code",
   "execution_count": 14,
   "metadata": {},
   "outputs": [],
   "source": [
    "df_jogadores.sort_values(\"Posicao\",inplace=True)"
   ]
  },
  {
   "cell_type": "code",
   "execution_count": 15,
   "metadata": {},
   "outputs": [],
   "source": [
    "df_jogadores.fillna(0,inplace=True)"
   ]
  },
  {
   "cell_type": "markdown",
   "metadata": {},
   "source": [
    "Salvamos o data set ja precessado em formato csv, sem os indexs\n"
   ]
  },
  {
   "cell_type": "code",
   "execution_count": 16,
   "metadata": {},
   "outputs": [],
   "source": [
    "df_jogadores.to_csv('Pre_processamento.csv',index = False)\n"
   ]
  },
  {
   "cell_type": "markdown",
   "metadata": {},
   "source": [
    "Reajando as colunas em uma ordem diferente"
   ]
  },
  {
   "cell_type": "code",
   "execution_count": 17,
   "metadata": {
    "scrolled": true
   },
   "outputs": [
    {
     "data": {
      "text/html": [
       "<div>\n",
       "<style scoped>\n",
       "    .dataframe tbody tr th:only-of-type {\n",
       "        vertical-align: middle;\n",
       "    }\n",
       "\n",
       "    .dataframe tbody tr th {\n",
       "        vertical-align: top;\n",
       "    }\n",
       "\n",
       "    .dataframe thead th {\n",
       "        text-align: right;\n",
       "    }\n",
       "</style>\n",
       "<table border=\"1\" class=\"dataframe\">\n",
       "  <thead>\n",
       "    <tr style=\"text-align: right;\">\n",
       "      <th></th>\n",
       "      <th>Altura</th>\n",
       "      <th>Peso</th>\n",
       "      <th>Desarme</th>\n",
       "      <th>Falta cometida</th>\n",
       "      <th>Cartao amarelo</th>\n",
       "      <th>Cartao vermelho</th>\n",
       "      <th>Falta sofrida</th>\n",
       "      <th>Finalizacao fora</th>\n",
       "      <th>Finalizacao defendida</th>\n",
       "      <th>Finalizacao trave</th>\n",
       "      <th>Gol</th>\n",
       "      <th>Assistencia</th>\n",
       "      <th>Passe Incompleto</th>\n",
       "      <th>Impedimento</th>\n",
       "      <th>Posicao</th>\n",
       "    </tr>\n",
       "  </thead>\n",
       "  <tbody>\n",
       "    <tr>\n",
       "      <th>0</th>\n",
       "      <td>1.88</td>\n",
       "      <td>78.0</td>\n",
       "      <td>0.0</td>\n",
       "      <td>0.0</td>\n",
       "      <td>0.0</td>\n",
       "      <td>0.0</td>\n",
       "      <td>0.0</td>\n",
       "      <td>0.0</td>\n",
       "      <td>0.0</td>\n",
       "      <td>0.0</td>\n",
       "      <td>0.0</td>\n",
       "      <td>0.0</td>\n",
       "      <td>10.0</td>\n",
       "      <td>0.0</td>\n",
       "      <td>0</td>\n",
       "    </tr>\n",
       "    <tr>\n",
       "      <th>69</th>\n",
       "      <td>1.91</td>\n",
       "      <td>78.0</td>\n",
       "      <td>0.0</td>\n",
       "      <td>0.0</td>\n",
       "      <td>1.0</td>\n",
       "      <td>0.0</td>\n",
       "      <td>0.0</td>\n",
       "      <td>0.0</td>\n",
       "      <td>0.0</td>\n",
       "      <td>0.0</td>\n",
       "      <td>0.0</td>\n",
       "      <td>0.0</td>\n",
       "      <td>25.0</td>\n",
       "      <td>0.0</td>\n",
       "      <td>0</td>\n",
       "    </tr>\n",
       "    <tr>\n",
       "      <th>86</th>\n",
       "      <td>1.96</td>\n",
       "      <td>92.0</td>\n",
       "      <td>0.0</td>\n",
       "      <td>0.0</td>\n",
       "      <td>0.0</td>\n",
       "      <td>0.0</td>\n",
       "      <td>0.0</td>\n",
       "      <td>0.0</td>\n",
       "      <td>0.0</td>\n",
       "      <td>0.0</td>\n",
       "      <td>0.0</td>\n",
       "      <td>0.0</td>\n",
       "      <td>17.0</td>\n",
       "      <td>0.0</td>\n",
       "      <td>0</td>\n",
       "    </tr>\n",
       "    <tr>\n",
       "      <th>46</th>\n",
       "      <td>1.93</td>\n",
       "      <td>83.0</td>\n",
       "      <td>0.0</td>\n",
       "      <td>0.0</td>\n",
       "      <td>0.0</td>\n",
       "      <td>0.0</td>\n",
       "      <td>2.0</td>\n",
       "      <td>0.0</td>\n",
       "      <td>0.0</td>\n",
       "      <td>0.0</td>\n",
       "      <td>0.0</td>\n",
       "      <td>0.0</td>\n",
       "      <td>17.0</td>\n",
       "      <td>0.0</td>\n",
       "      <td>0</td>\n",
       "    </tr>\n",
       "    <tr>\n",
       "      <th>98</th>\n",
       "      <td>1.85</td>\n",
       "      <td>78.0</td>\n",
       "      <td>0.0</td>\n",
       "      <td>0.0</td>\n",
       "      <td>0.0</td>\n",
       "      <td>0.0</td>\n",
       "      <td>0.0</td>\n",
       "      <td>0.0</td>\n",
       "      <td>0.0</td>\n",
       "      <td>0.0</td>\n",
       "      <td>0.0</td>\n",
       "      <td>0.0</td>\n",
       "      <td>19.0</td>\n",
       "      <td>0.0</td>\n",
       "      <td>0</td>\n",
       "    </tr>\n",
       "  </tbody>\n",
       "</table>\n",
       "</div>"
      ],
      "text/plain": [
       "    Altura  Peso  Desarme  Falta cometida  Cartao amarelo  Cartao vermelho  \\\n",
       "0     1.88  78.0      0.0             0.0             0.0              0.0   \n",
       "69    1.91  78.0      0.0             0.0             1.0              0.0   \n",
       "86    1.96  92.0      0.0             0.0             0.0              0.0   \n",
       "46    1.93  83.0      0.0             0.0             0.0              0.0   \n",
       "98    1.85  78.0      0.0             0.0             0.0              0.0   \n",
       "\n",
       "    Falta sofrida  Finalizacao fora  Finalizacao defendida  Finalizacao trave  \\\n",
       "0             0.0               0.0                    0.0                0.0   \n",
       "69            0.0               0.0                    0.0                0.0   \n",
       "86            0.0               0.0                    0.0                0.0   \n",
       "46            2.0               0.0                    0.0                0.0   \n",
       "98            0.0               0.0                    0.0                0.0   \n",
       "\n",
       "    Gol  Assistencia  Passe Incompleto  Impedimento  Posicao  \n",
       "0   0.0          0.0              10.0          0.0        0  \n",
       "69  0.0          0.0              25.0          0.0        0  \n",
       "86  0.0          0.0              17.0          0.0        0  \n",
       "46  0.0          0.0              17.0          0.0        0  \n",
       "98  0.0          0.0              19.0          0.0        0  "
      ]
     },
     "execution_count": 17,
     "metadata": {},
     "output_type": "execute_result"
    }
   ],
   "source": [
    "df_jogadores = df_jogadores[[\"Altura\",\"Peso\",\"Desarme\",\"Falta cometida\",\"Cartao amarelo\",\"Cartao vermelho\",\"Falta sofrida\",\n",
    "              \"Finalizacao fora\",\"Finalizacao defendida\",\"Finalizacao trave\",\"Gol\",\"Assistencia\",\n",
    "              \"Passe Incompleto\",\"Impedimento\",\"Posicao\" ]]\n",
    "df_jogadores.head()"
   ]
  },
  {
   "cell_type": "markdown",
   "metadata": {},
   "source": [
    "Pegamos os dados em dois arrays, um com as caracteriscas e ou com o rotulo da posicao do jogador"
   ]
  },
  {
   "cell_type": "code",
   "execution_count": 45,
   "metadata": {},
   "outputs": [],
   "source": [
    "X = df_jogadores.iloc[:,0:14].values\n",
    "Y = df_jogadores[\"Posicao\"].values"
   ]
  },
  {
   "cell_type": "code",
   "execution_count": 37,
   "metadata": {},
   "outputs": [
    {
     "data": {
      "image/png": "[encoded data removed]",
      "text/plain": [
       "<Figure size 1080x1080 with 16 Axes>"
      ]
     },
     "metadata": {
      "needs_background": "light"
     },
     "output_type": "display_data"
    }
   ],
   "source": [
    "%matplotlib inline\n",
    "import matplotlib.pyplot as plt\n",
    "from mlxtend.plotting import scatterplotmatrix\n",
    "\n",
    "names =  df_jogadores.columns[:14]\n",
    "\n",
    "fig, axes = scatterplotmatrix(X[Y==0],figsize=(15,10),alpha=0.5)\n",
    "fig, axes = scatterplotmatrix(X[Y==1],fig_axes=(fig,axes),alpha=0.5)\n",
    "fig, axes = scatterplotmatrix(X[Y==2],fig_axes=(fig,axes),alpha=0.5)\n",
    "fig, axes = scatterplotmatrix(X[Y==3],fig_axes=(fig,axes),alpha=0.5)\n",
    "fig, axes = scatterplotmatrix(X[Y==4],fig_axes=(fig,axes),alpha=0.5)\n",
    "fig, axes = scatterplotmatrix(X[Y==5],fig_axes=(fig,axes),alpha=0.5,names = names)\n",
    "\n",
    "plt.tight_layout()\n",
    "plt.legend(labels=[\"Goleiro\",\"Zagueiro\",\"Lateral\",\"Meia\",\"Atacante\"])\n",
    "#plt.savefig(\"Image.JPEG\")\n",
    "plt.show()"
   ]
  },
  {
   "cell_type": "markdown",
   "metadata": {
    "scrolled": true
   },
   "source": [
    "separando as amostras em treino e teste"
   ]
  },
  {
   "cell_type": "code",
   "execution_count": 46,
   "metadata": {},
   "outputs": [
    {
     "data": {
      "text/plain": [
       "array([18, 38, 34, 74, 52])"
      ]
     },
     "execution_count": 46,
     "metadata": {},
     "output_type": "execute_result"
    }
   ],
   "source": [
    "from sklearn.model_selection import train_test_split\n",
    "\n",
    "X_train, X_test, Y_train, Y_test = train_test_split(X, Y, test_size=0.2, shuffle=True, random_state=123, stratify=Y)\n",
    "np.bincount(Y_train)"
   ]
  },
  {
   "cell_type": "markdown",
   "metadata": {},
   "source": [
    "Normalizando os dados para treinar o algoritimo"
   ]
  },
  {
   "cell_type": "code",
   "execution_count": 47,
   "metadata": {},
   "outputs": [
    {
     "data": {
      "text/plain": [
       "array([[-0.69027094, -1.46106814,  0.70722909, ...,  2.70449362,\n",
       "         1.00501231, -0.32674044],\n",
       "       [ 1.26561282,  0.6975551 , -0.94961997, ..., -0.3380617 ,\n",
       "        -0.81411612, -0.32674044],\n",
       "       [ 1.26561282,  0.6975551 , -0.94961997, ..., -0.3380617 ,\n",
       "        -0.08646475, -0.32674044],\n",
       "       ...,\n",
       "       [ 0.51334983,  0.6975551 , -0.94961997, ..., -0.3380617 ,\n",
       "        -1.1779418 , -0.32674044],\n",
       "       [-0.99117614, -0.74152706,  0.37585928, ...,  2.70449362,\n",
       "        -0.57156566, -0.32674044],\n",
       "       [ 0.06199204,  0.6975551 , -0.28688035, ..., -0.3380617 ,\n",
       "         0.27736094, -0.32674044]])"
      ]
     },
     "execution_count": 47,
     "metadata": {},
     "output_type": "execute_result"
    }
   ],
   "source": [
    "from sklearn.preprocessing import StandardScaler\n",
    "\n",
    "scaler = StandardScaler()\n",
    "scaler.fit(X_train)\n",
    "X_train_std = scaler.transform(X_train)\n",
    "X_test_std = scaler.transform(X_test)\n",
    "X_train_std"
   ]
  },
  {
   "cell_type": "markdown",
   "metadata": {},
   "source": [
    "Treinando o algoritmo "
   ]
  },
  {
   "cell_type": "code",
   "execution_count": 75,
   "metadata": {},
   "outputs": [
    {
     "data": {
      "text/plain": [
       "KNeighborsClassifier(algorithm='auto', leaf_size=30, metric='minkowski',\n",
       "                     metric_params=None, n_jobs=None, n_neighbors=3, p=2,\n",
       "                     weights='uniform')"
      ]
     },
     "execution_count": 75,
     "metadata": {},
     "output_type": "execute_result"
    }
   ],
   "source": [
    "from sklearn.neighbors import KNeighborsClassifier\n",
    "\n",
    "knn_model = KNeighborsClassifier(n_neighbors=3)\n",
    "\n",
    "knn_model.fit(X_train, Y_train)"
   ]
  },
  {
   "cell_type": "markdown",
   "metadata": {},
   "source": [
    "Fazendo a predicao dos dados e analisando a precisao do algoritimo"
   ]
  },
  {
   "cell_type": "code",
   "execution_count": 76,
   "metadata": {},
   "outputs": [
    {
     "name": "stdout",
     "output_type": "stream",
     "text": [
      "[3 3 1 2 3 3 1 3 1 3 0 1 0 1 3 1 1 1 1 3 2 2 1 3 1 4 2 1 3 2 1 3 2 1 1 3 1\n",
      " 4 3 1 3 1 4 3 0 1 0 1 3 3 1 1 2 4]\n",
      "[3 3 4 3 4 3 4 2 1 3 0 3 1 1 3 2 1 1 3 3 3 2 0 2 4 4 3 1 4 2 0 4 2 1 1 4 3\n",
      " 4 3 1 3 3 3 2 0 2 4 4 3 4 4 1 2 3]\n"
     ]
    }
   ],
   "source": [
    "Y_pred = knn_model.predict(X_test)\n",
    "print(Y_pred)\n",
    "print(Y_test)"
   ]
  },
  {
   "cell_type": "code",
   "execution_count": 77,
   "metadata": {},
   "outputs": [
    {
     "data": {
      "text/plain": [
       "0.48148148148148145"
      ]
     },
     "execution_count": 77,
     "metadata": {},
     "output_type": "execute_result"
    }
   ],
   "source": [
    "from sklearn.metrics import accuracy_score\n",
    "\n",
    "accuracy_score(Y_test, Y_pred)"
   ]
  }
 ],
 "metadata": {
  "kernelspec": {
   "display_name": "Python 3",
   "language": "python",
   "name": "python3"
  },
  "language_info": {
   "codemirror_mode": {
    "name": "ipython",
    "version": 3
   },
   "file_extension": ".py",
   "mimetype": "text/x-python",
   "name": "python",
   "nbconvert_exporter": "python",
   "pygments_lexer": "ipython3",
   "version": "3.7.6"
  }
 },
 "nbformat": 4,
 "nbformat_minor": 4
}
